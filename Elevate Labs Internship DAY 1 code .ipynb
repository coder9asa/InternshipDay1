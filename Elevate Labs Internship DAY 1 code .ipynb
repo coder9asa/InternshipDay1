{
 "cells": [
  {
   "cell_type": "code",
   "execution_count": 16,
   "id": "a7b2c505-e4a5-42c3-b360-d608a67ed97e",
   "metadata": {},
   "outputs": [
    {
     "name": "stdout",
     "output_type": "stream",
     "text": [
      "Cleaned dataset saved to /Users/manas/Downloads/cleaned_car_prices.csv\n"
     ]
    }
   ],
   "source": [
    "import pandas as pd\n",
    "from datetime import datetime\n",
    "\n",
    "df = pd.read_csv(\"/Users/manas/Downloads/car_prices.csv\")\n",
    "\n",
    "df.columns = df.columns.str.strip().str.lower().str.replace(' ', '_')\n",
    "\n",
    "null_percent = df.isnull().mean()\n",
    "df = df.drop(columns=null_percent[null_percent > 0.5].index)\n",
    "\n",
    "for col in df.select_dtypes(include='number'):\n",
    "    df[col].fillna(df[col].median(), inplace=True)\n",
    "\n",
    "for col in df.select_dtypes(include='object'):\n",
    "    df[col].fillna(df[col].mode()[0], inplace=True)\n",
    "\n",
    "for col in ['make', 'model', 'fuel_type', 'transmission']:\n",
    "    if col in df.columns:\n",
    "        df[col] = df[col].str.strip().str.lower()\n",
    "\n",
    "for col in ['price', 'mileage', 'engine_size']:\n",
    "    if col in df.columns:\n",
    "        df[col] = df[col].replace('[\\$,]', '', regex=True).astype(float)\n",
    "\n",
    "if 'year' in df.columns:\n",
    "    df['car_age'] = datetime.now().year - df['year']\n",
    "\n",
    "df.drop_duplicates(inplace=True)\n",
    "\n",
    "if 'price' in df.columns:\n",
    "    Q1 = df['price'].quantile(0.25)\n",
    "    Q3 = df['price'].quantile(0.75)\n",
    "    IQR = Q3 - Q1\n",
    "    df['price_outlier'] = (df['price'] < Q1 - 1.5 * IQR) | (df['price'] > Q3 + 1.5 * IQR)\n",
    "\n",
    "df.to_csv(\"/Users/manas/Downloads/cleaned_car_prices.csv\", index=False)\n",
    "print(\"Cleaned dataset saved to /Users/manas/Downloads/cleaned_car_prices.csv\")\n"
   ]
  }
 ],
 "metadata": {
  "kernelspec": {
   "display_name": "Python 3 (ipykernel)",
   "language": "python",
   "name": "python3"
  },
  "language_info": {
   "codemirror_mode": {
    "name": "ipython",
    "version": 3
   },
   "file_extension": ".py",
   "mimetype": "text/x-python",
   "name": "python",
   "nbconvert_exporter": "python",
   "pygments_lexer": "ipython3",
   "version": "3.11.7"
  }
 },
 "nbformat": 4,
 "nbformat_minor": 5
}
